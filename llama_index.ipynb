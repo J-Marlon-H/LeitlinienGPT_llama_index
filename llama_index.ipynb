{
 "cells": [
  {
   "cell_type": "code",
   "execution_count": 35,
   "metadata": {},
   "outputs": [],
   "source": [
    "from trulens_eval import Tru\n",
    "from trulens_eval.feedback import Groundedness\n",
    "from trulens_eval import TruLlama\n",
    "from trulens_eval import OpenAI as fOpenAI\n",
    "from trulens_eval import Feedback\n",
    "\n",
    "from llama_index import Document\n",
    "from llama_index import SimpleDirectoryReader\n",
    "from llama_index import ServiceContext, VectorStoreIndex, StorageContext\n",
    "from llama_index.node_parser import SentenceWindowNodeParser\n",
    "from llama_index.indices.postprocessor import MetadataReplacementPostProcessor\n",
    "from llama_index.indices.postprocessor import SentenceTransformerRerank\n",
    "from llama_index import load_index_from_storage\n",
    "from llama_index.llms import OpenAI\n",
    "\n",
    "import openai\n",
    "\n",
    "import numpy as np\n",
    "import pandas as pd\n",
    "\n",
    "import os\n",
    "from dotenv import load_dotenv, find_dotenv"
   ]
  },
  {
   "cell_type": "code",
   "execution_count": 36,
   "metadata": {},
   "outputs": [
    {
     "name": "stdout",
     "output_type": "stream",
     "text": [
      "c:\\Users\\marlo\\OneDrive\\Desktop\\Anaconda\\Fun\\Deep_Learning\\Semantic_Search_Project\\llama_index\n"
     ]
    }
   ],
   "source": [
    "print(os.getcwd())"
   ]
  },
  {
   "cell_type": "code",
   "execution_count": 37,
   "metadata": {},
   "outputs": [],
   "source": [
    "# sys.path.append('../..')\n",
    "dotenv_path = 'KEYs.env'  \n",
    "_ = load_dotenv(dotenv_path)\n",
    "\n",
    "openai.api_key = os.environ['OPENAI_API_KEY']"
   ]
  },
  {
   "cell_type": "code",
   "execution_count": 38,
   "metadata": {},
   "outputs": [],
   "source": [
    "def build_sentence_window_index(\n",
    "    documents,\n",
    "    llm,\n",
    "    embed_model=\"local:BAAI/bge-small-en-v1.5\",\n",
    "    sentence_window_size=5,\n",
    "    save_dir=\"sentence_index\",\n",
    "):\n",
    "    # create the sentence window node parser w/ default settings\n",
    "    node_parser = SentenceWindowNodeParser.from_defaults(\n",
    "        window_size=sentence_window_size,\n",
    "        window_metadata_key=\"window\",\n",
    "        original_text_metadata_key=\"original_text\",\n",
    "    )\n",
    "    sentence_context = ServiceContext.from_defaults(\n",
    "        llm=llm,\n",
    "        embed_model=embed_model,\n",
    "        node_parser=node_parser,\n",
    "    )\n",
    "    if not os.path.exists(save_dir):\n",
    "        sentence_index = VectorStoreIndex.from_documents(\n",
    "            documents, service_context=sentence_context\n",
    "        )\n",
    "        sentence_index.storage_context.persist(persist_dir=save_dir)\n",
    "    else:\n",
    "        sentence_index = load_index_from_storage(\n",
    "            StorageContext.from_defaults(persist_dir=save_dir),\n",
    "            service_context=sentence_context,\n",
    "        )\n",
    "\n",
    "    return sentence_index\n",
    "\n",
    "\n",
    "def get_sentence_window_query_engine(\n",
    "    sentence_index, similarity_top_k=6, rerank_top_n=3\n",
    "):\n",
    "    # define postprocessors\n",
    "    postproc = MetadataReplacementPostProcessor(target_metadata_key=\"window\")\n",
    "    rerank = SentenceTransformerRerank(\n",
    "        top_n=rerank_top_n, model=\"BAAI/bge-reranker-base\"\n",
    "    )\n",
    "\n",
    "    sentence_window_engine = sentence_index.as_query_engine(\n",
    "        similarity_top_k=similarity_top_k, node_postprocessors=[postproc, rerank]\n",
    "    )\n",
    "    return sentence_window_engine"
   ]
  },
  {
   "cell_type": "code",
   "execution_count": 39,
   "metadata": {},
   "outputs": [],
   "source": [
    "documents = SimpleDirectoryReader(input_dir=\"C:/Users/marlo/OneDrive/Desktop/Anaconda/Fun/Deep_Learning/Semantic_Search_Project/Database\", \n",
    "                                  recursive=True, \n",
    "                                  num_files_limit=10).load_data()\n",
    "\n",
    "# SimpleDirectoryReader(\n",
    "#     input_dir=\"path/to/directory\", exclude=[\"path/to/file1\", \"path/to/file2\"]\n",
    "# )\n",
    "\n",
    "document = Document(text=\"\\n\\n\".join([doc.text for doc in documents]))"
   ]
  },
  {
   "cell_type": "code",
   "execution_count": 42,
   "metadata": {},
   "outputs": [
    {
     "name": "stdout",
     "output_type": "stream",
     "text": [
      "doc.text:  \n",
      " \n",
      " \n",
      "___________________________________________________  \n",
      " Verabschiedun g durch die Leitlinie durch die K onsensuskonferenz am 24.5.2018 \n",
      "in Hannover  \n",
      " \n",
      "Annahme der aktuellen Version durch Mitgliederbeschluss  \n",
      "der Deutschen AIDS Gesellschaft e.V.  (DAIG) am 22.6.2018 in K öln \n",
      " \n",
      " \n",
      "Leitlinienkoordination:  \n",
      "Prof. Dr. med. Hans-Jürgen Ste llbrink \n",
      "Grindelallee 35  \n",
      "20146 Ham burg \n",
      " \n",
      " \n",
      " \n",
      "Erstveröffentlichung:       05/2018  \n",
      " \n",
      "Überarbeitung von:        \n",
      " \n",
      "Nächste Überprüfung geplant:     05/2023  \n",
      " \n",
      " \n",
      " \n",
      " \n",
      "Die AWMF erfasst und publiziert die Leitlinien der Fachgesellschaften mit \n",
      "größtmöglicher Sorgfalt -  dennoch kann die AWMF für die Richtigkeit des \n",
      "Inhalts keine Verantwortung übernehmen. Insbesondere bei \n",
      "Dosierungsangaben sind stets die Angaben der Herstell er zu beachten!  \n",
      " \n",
      "Autorisiert für elektronische Publikation: AWMF online  \n",
      " \n",
      " \n",
      "doc: Doc ID: 66b734b0-3e1e-4f92-a3fe-10af970cf4b2\n",
      "Text: ___________________________________________________\n",
      "Verabschiedun g durch die Leitlinie durch die K onsensuskonferenz am\n",
      "24.5.2018  in Hannover     Annahme der aktuellen Version durch\n",
      "Mitgliederbeschluss   der Deutschen AIDS Gesellschaft e.V.  (DAIG) am\n",
      "22.6.2018 in K öln      Leitlinienkoordination:   Prof. Dr. med. Hans-\n",
      "Jürgen Ste llbrink  ...\n",
      "627\n"
     ]
    }
   ],
   "source": [
    "count = 0\n",
    "for doc in documents:\n",
    "    count +=1\n",
    "print(\"doc.text:\",doc.text)\n",
    "print(\"doc:\",doc)\n",
    "print(count)"
   ]
  },
  {
   "cell_type": "code",
   "execution_count": 12,
   "metadata": {},
   "outputs": [],
   "source": [
    "# index = build_sentence_window_index(\n",
    "#     [document],\n",
    "#     llm=OpenAI(model=\"gpt-3.5-turbo\", temperature=0.1),\n",
    "#     save_dir=\"./sentence_index\",\n",
    "# )"
   ]
  },
  {
   "cell_type": "code",
   "execution_count": 13,
   "metadata": {},
   "outputs": [],
   "source": [
    "query_engine = get_sentence_window_query_engine(index, similarity_top_k=6)"
   ]
  },
  {
   "cell_type": "code",
   "execution_count": 14,
   "metadata": {},
   "outputs": [],
   "source": [
    "question = 'Ist eine Anamnese auch genannt als Test in den Dokumenten?'\n",
    "\n",
    "response = query_engine.query(question)"
   ]
  },
  {
   "cell_type": "code",
   "execution_count": 15,
   "metadata": {},
   "outputs": [
    {
     "name": "stdout",
     "output_type": "stream",
     "text": [
      "Nein, eine Anamnese wird in den Dokumenten nicht als Test bezeichnet.\n"
     ]
    }
   ],
   "source": [
    "print(response)"
   ]
  },
  {
   "cell_type": "code",
   "execution_count": 19,
   "metadata": {},
   "outputs": [],
   "source": [
    "eval_questions = []\n",
    "with open('eval_questions.txt', 'r') as file:\n",
    "    for line in file:\n",
    "        # Remove newline character and convert to integer\n",
    "        item = line.strip()\n",
    "        eval_questions.append(item)"
   ]
  },
  {
   "cell_type": "code",
   "execution_count": 20,
   "metadata": {},
   "outputs": [
    {
     "name": "stdout",
     "output_type": "stream",
     "text": [
      "['Wann wird die bariatrische OP emopfohlen?', 'Wie untersuche ich eine Wespenstichallergie?', 'Was sind die ersten Tests um AIDS zu diagnostizieren?', 'Ist eine Anamnese auch genannt als Test in den Dokumenten?']\n"
     ]
    }
   ],
   "source": [
    "print(eval_questions)"
   ]
  },
  {
   "cell_type": "markdown",
   "metadata": {},
   "source": [
    "#### TruLens Evaluation"
   ]
  },
  {
   "cell_type": "markdown",
   "metadata": {},
   "source": [
    "##### 1. Answer Relevance"
   ]
  },
  {
   "cell_type": "code",
   "execution_count": 22,
   "metadata": {},
   "outputs": [],
   "source": [
    "provider = fOpenAI()"
   ]
  },
  {
   "cell_type": "code",
   "execution_count": 23,
   "metadata": {},
   "outputs": [
    {
     "name": "stdout",
     "output_type": "stream",
     "text": [
      "✅ In Answer Relevance, input prompt will be set to __record__.main_input or `Select.RecordInput` .\n",
      "✅ In Answer Relevance, input response will be set to __record__.main_output or `Select.RecordOutput` .\n"
     ]
    }
   ],
   "source": [
    "f_qa_relevance = Feedback(\n",
    "    provider.relevance_with_cot_reasons,\n",
    "    name=\"Answer Relevance\"\n",
    ").on_input_output()"
   ]
  },
  {
   "cell_type": "markdown",
   "metadata": {},
   "source": [
    "##### 2. Context Relevance"
   ]
  },
  {
   "cell_type": "code",
   "execution_count": 24,
   "metadata": {},
   "outputs": [],
   "source": [
    "context_selection = TruLlama.select_source_nodes().node.text"
   ]
  },
  {
   "cell_type": "code",
   "execution_count": 25,
   "metadata": {},
   "outputs": [
    {
     "name": "stdout",
     "output_type": "stream",
     "text": [
      "✅ In Context Relevance, input question will be set to __record__.main_input or `Select.RecordInput` .\n",
      "✅ In Context Relevance, input statement will be set to __record__.app.query.rets.source_nodes[:].node.text .\n"
     ]
    }
   ],
   "source": [
    "f_qs_relevance = (\n",
    "    Feedback(provider.qs_relevance,\n",
    "             name=\"Context Relevance\")\n",
    "    .on_input()\n",
    "    .on(context_selection)\n",
    "    .aggregate(np.mean)\n",
    ")"
   ]
  },
  {
   "cell_type": "markdown",
   "metadata": {},
   "source": [
    "##### 3. Groundedness"
   ]
  },
  {
   "cell_type": "code",
   "execution_count": 26,
   "metadata": {},
   "outputs": [],
   "source": [
    "provider = fOpenAI()"
   ]
  },
  {
   "cell_type": "code",
   "execution_count": 27,
   "metadata": {},
   "outputs": [],
   "source": [
    "grounded = Groundedness(groundedness_provider=provider)"
   ]
  },
  {
   "cell_type": "code",
   "execution_count": 28,
   "metadata": {},
   "outputs": [
    {
     "name": "stdout",
     "output_type": "stream",
     "text": [
      "✅ In Groundedness, input source will be set to __record__.app.query.rets.source_nodes[:].node.text .\n",
      "✅ In Groundedness, input statement will be set to __record__.main_output or `Select.RecordOutput` .\n"
     ]
    }
   ],
   "source": [
    "f_groundedness = (\n",
    "    Feedback(grounded.groundedness_measure_with_cot_reasons,\n",
    "             name=\"Groundedness\"\n",
    "            )\n",
    "    .on(context_selection)\n",
    "    .on_output()\n",
    "    .aggregate(grounded.grounded_statements_aggregator)\n",
    ")"
   ]
  },
  {
   "cell_type": "code",
   "execution_count": 29,
   "metadata": {},
   "outputs": [],
   "source": [
    "def run_evals(eval_questions, tru_recorder, query_engine):\n",
    "    for question in eval_questions:\n",
    "        with tru_recorder as recording:\n",
    "            response = query_engine.query(question)"
   ]
  },
  {
   "cell_type": "code",
   "execution_count": 30,
   "metadata": {},
   "outputs": [
    {
     "name": "stdout",
     "output_type": "stream",
     "text": [
      "🦑 Tru initialized with db url sqlite:///default.sqlite .\n",
      "🛑 Secret keys may be written to the database. See the `database_redact_keys` option of `Tru` to prevent this.\n"
     ]
    }
   ],
   "source": [
    "sentence_window_engine = \\\n",
    "tru_recorder = TruLlama(\n",
    "    query_engine,\n",
    "    app_id=\"App_1\",\n",
    "    feedbacks=[\n",
    "        f_qa_relevance,\n",
    "        f_qs_relevance,\n",
    "        f_groundedness\n",
    "    ]\n",
    ")"
   ]
  },
  {
   "cell_type": "code",
   "execution_count": 31,
   "metadata": {},
   "outputs": [
    {
     "name": "stderr",
     "output_type": "stream",
     "text": [
      "Function <method-wrapper '__call__' of method object at 0x0000022D5C9DA880> has not been instrumented. This may be ok if it will call a function that has been instrumented exactly once. Otherwise unexpected results may follow. You can use `AddInstruments.method` of `trulens_eval.instruments` before you use the `TruLlama` wrapper to make sure `__call__` does get instrumented. `TruLlama` method `print_instrumented` may be used to see methods that have been instrumented. \n"
     ]
    },
    {
     "name": "stdout",
     "output_type": "stream",
     "text": [
      "\n",
      "`query` will be deprecated soon; To record results of your app's execution, use one of these options to invoke your app:\n",
      "    (1) Use the `with_` method:\n",
      "        ```python\n",
      "        app # your app\n",
      "        tru_app_recorder: TruLlama = TruLlama(app, ...)\n",
      "        result = tru_app_recorder.with_(app.query, ...args/kwargs-to-app.query...)\n",
      "        ```\n",
      "    (2) Use TruLlama as a context manager: \n",
      "        ```python\n",
      "        app # your app\n",
      "        tru_app_recorder: TruLlama = TruLlama(app, ...)\n",
      "        with tru_app_recorder:\n",
      "            result = app.query(...args/kwargs-to-app.query...)\n",
      "        \n",
      "        ```\n",
      "\n",
      "\n",
      "`query_with_record` will be deprecated soon; To record results of your app's execution, use one of these options to invoke your app:\n",
      "    (1) Use the `with_record` method:\n",
      "        ```python\n",
      "        app # your app\n",
      "        tru_app_recorder: TruLlama = TruLlama(app, ...)\n",
      "        result, record = tru_app_recorder.with_record(app.query, ...args/kwargs-to-app.query...)\n",
      "        ```\n",
      "    (2) Use TruLlama as a context manager: \n",
      "        ```python\n",
      "        app # your app\n",
      "        tru_app_recorder: TruLlama = TruLlama(app, ...)\n",
      "        with tru_app_recorder as records:\n",
      "            result = app.query(...args/kwargs-to-app.query...)\n",
      "        record = records.get()\n",
      "        ```\n",
      "\n"
     ]
    },
    {
     "name": "stderr",
     "output_type": "stream",
     "text": [
      "Function <method-wrapper '__call__' of method object at 0x0000022D85BF6500> has not been instrumented. This may be ok if it will call a function that has been instrumented exactly once. Otherwise unexpected results may follow. You can use `AddInstruments.method` of `trulens_eval.instruments` before you use the `TruLlama` wrapper to make sure `__call__` does get instrumented. `TruLlama` method `print_instrumented` may be used to see methods that have been instrumented. \n"
     ]
    },
    {
     "name": "stdout",
     "output_type": "stream",
     "text": [
      "\n",
      "`query` will be deprecated soon; To record results of your app's execution, use one of these options to invoke your app:\n",
      "    (1) Use the `with_` method:\n",
      "        ```python\n",
      "        app # your app\n",
      "        tru_app_recorder: TruLlama = TruLlama(app, ...)\n",
      "        result = tru_app_recorder.with_(app.query, ...args/kwargs-to-app.query...)\n",
      "        ```\n",
      "    (2) Use TruLlama as a context manager: \n",
      "        ```python\n",
      "        app # your app\n",
      "        tru_app_recorder: TruLlama = TruLlama(app, ...)\n",
      "        with tru_app_recorder:\n",
      "            result = app.query(...args/kwargs-to-app.query...)\n",
      "        \n",
      "        ```\n",
      "\n",
      "\n",
      "`query_with_record` will be deprecated soon; To record results of your app's execution, use one of these options to invoke your app:\n",
      "    (1) Use the `with_record` method:\n",
      "        ```python\n",
      "        app # your app\n",
      "        tru_app_recorder: TruLlama = TruLlama(app, ...)\n",
      "        result, record = tru_app_recorder.with_record(app.query, ...args/kwargs-to-app.query...)\n",
      "        ```\n",
      "    (2) Use TruLlama as a context manager: \n",
      "        ```python\n",
      "        app # your app\n",
      "        tru_app_recorder: TruLlama = TruLlama(app, ...)\n",
      "        with tru_app_recorder as records:\n",
      "            result = app.query(...args/kwargs-to-app.query...)\n",
      "        record = records.get()\n",
      "        ```\n",
      "\n"
     ]
    },
    {
     "name": "stderr",
     "output_type": "stream",
     "text": [
      "Function <method-wrapper '__call__' of method object at 0x0000022D5E729B00> has not been instrumented. This may be ok if it will call a function that has been instrumented exactly once. Otherwise unexpected results may follow. You can use `AddInstruments.method` of `trulens_eval.instruments` before you use the `TruLlama` wrapper to make sure `__call__` does get instrumented. `TruLlama` method `print_instrumented` may be used to see methods that have been instrumented. \n"
     ]
    },
    {
     "name": "stdout",
     "output_type": "stream",
     "text": [
      "\n",
      "`query` will be deprecated soon; To record results of your app's execution, use one of these options to invoke your app:\n",
      "    (1) Use the `with_` method:\n",
      "        ```python\n",
      "        app # your app\n",
      "        tru_app_recorder: TruLlama = TruLlama(app, ...)\n",
      "        result = tru_app_recorder.with_(app.query, ...args/kwargs-to-app.query...)\n",
      "        ```\n",
      "    (2) Use TruLlama as a context manager: \n",
      "        ```python\n",
      "        app # your app\n",
      "        tru_app_recorder: TruLlama = TruLlama(app, ...)\n",
      "        with tru_app_recorder:\n",
      "            result = app.query(...args/kwargs-to-app.query...)\n",
      "        \n",
      "        ```\n",
      "\n",
      "\n",
      "`query_with_record` will be deprecated soon; To record results of your app's execution, use one of these options to invoke your app:\n",
      "    (1) Use the `with_record` method:\n",
      "        ```python\n",
      "        app # your app\n",
      "        tru_app_recorder: TruLlama = TruLlama(app, ...)\n",
      "        result, record = tru_app_recorder.with_record(app.query, ...args/kwargs-to-app.query...)\n",
      "        ```\n",
      "    (2) Use TruLlama as a context manager: \n",
      "        ```python\n",
      "        app # your app\n",
      "        tru_app_recorder: TruLlama = TruLlama(app, ...)\n",
      "        with tru_app_recorder as records:\n",
      "            result = app.query(...args/kwargs-to-app.query...)\n",
      "        record = records.get()\n",
      "        ```\n",
      "\n"
     ]
    },
    {
     "name": "stderr",
     "output_type": "stream",
     "text": [
      "Function <method-wrapper '__call__' of method object at 0x0000022D5CF34E00> has not been instrumented. This may be ok if it will call a function that has been instrumented exactly once. Otherwise unexpected results may follow. You can use `AddInstruments.method` of `trulens_eval.instruments` before you use the `TruLlama` wrapper to make sure `__call__` does get instrumented. `TruLlama` method `print_instrumented` may be used to see methods that have been instrumented. \n"
     ]
    },
    {
     "name": "stdout",
     "output_type": "stream",
     "text": [
      "\n",
      "`query` will be deprecated soon; To record results of your app's execution, use one of these options to invoke your app:\n",
      "    (1) Use the `with_` method:\n",
      "        ```python\n",
      "        app # your app\n",
      "        tru_app_recorder: TruLlama = TruLlama(app, ...)\n",
      "        result = tru_app_recorder.with_(app.query, ...args/kwargs-to-app.query...)\n",
      "        ```\n",
      "    (2) Use TruLlama as a context manager: \n",
      "        ```python\n",
      "        app # your app\n",
      "        tru_app_recorder: TruLlama = TruLlama(app, ...)\n",
      "        with tru_app_recorder:\n",
      "            result = app.query(...args/kwargs-to-app.query...)\n",
      "        \n",
      "        ```\n",
      "\n",
      "\n",
      "`query_with_record` will be deprecated soon; To record results of your app's execution, use one of these options to invoke your app:\n",
      "    (1) Use the `with_record` method:\n",
      "        ```python\n",
      "        app # your app\n",
      "        tru_app_recorder: TruLlama = TruLlama(app, ...)\n",
      "        result, record = tru_app_recorder.with_record(app.query, ...args/kwargs-to-app.query...)\n",
      "        ```\n",
      "    (2) Use TruLlama as a context manager: \n",
      "        ```python\n",
      "        app # your app\n",
      "        tru_app_recorder: TruLlama = TruLlama(app, ...)\n",
      "        with tru_app_recorder as records:\n",
      "            result = app.query(...args/kwargs-to-app.query...)\n",
      "        record = records.get()\n",
      "        ```\n",
      "\n"
     ]
    }
   ],
   "source": [
    "for question in eval_questions:\n",
    "    with tru_recorder as recording:\n",
    "        sentence_window_engine.query(question)"
   ]
  },
  {
   "cell_type": "code",
   "execution_count": 32,
   "metadata": {},
   "outputs": [
    {
     "data": {
      "text/html": [
       "<div>\n",
       "<style scoped>\n",
       "    .dataframe tbody tr th:only-of-type {\n",
       "        vertical-align: middle;\n",
       "    }\n",
       "\n",
       "    .dataframe tbody tr th {\n",
       "        vertical-align: top;\n",
       "    }\n",
       "\n",
       "    .dataframe thead th {\n",
       "        text-align: right;\n",
       "    }\n",
       "</style>\n",
       "<table border=\"1\" class=\"dataframe\">\n",
       "  <thead>\n",
       "    <tr style=\"text-align: right;\">\n",
       "      <th></th>\n",
       "      <th>app_id</th>\n",
       "      <th>app_json</th>\n",
       "      <th>type</th>\n",
       "      <th>record_id</th>\n",
       "      <th>input</th>\n",
       "      <th>output</th>\n",
       "      <th>tags</th>\n",
       "      <th>record_json</th>\n",
       "      <th>cost_json</th>\n",
       "      <th>perf_json</th>\n",
       "      <th>ts</th>\n",
       "      <th>Context Relevance</th>\n",
       "      <th>Answer Relevance</th>\n",
       "      <th>Groundedness</th>\n",
       "      <th>Context Relevance_calls</th>\n",
       "      <th>Answer Relevance_calls</th>\n",
       "      <th>Groundedness_calls</th>\n",
       "      <th>latency</th>\n",
       "      <th>total_tokens</th>\n",
       "      <th>total_cost</th>\n",
       "    </tr>\n",
       "  </thead>\n",
       "  <tbody>\n",
       "    <tr>\n",
       "      <th>0</th>\n",
       "      <td>App_1</td>\n",
       "      <td>{\"tru_class_info\": {\"name\": \"TruLlama\", \"modul...</td>\n",
       "      <td>RetrieverQueryEngine(llama_index.query_engine....</td>\n",
       "      <td>record_hash_2ed9c45be7f0652162fbc9e5e49428be</td>\n",
       "      <td>\"Wann wird die bariatrische OP emopfohlen?\"</td>\n",
       "      <td>\"Die bariatrische Operation wird empfohlen, we...</td>\n",
       "      <td>-</td>\n",
       "      <td>{\"record_id\": \"record_hash_2ed9c45be7f0652162f...</td>\n",
       "      <td>{\"n_requests\": 1, \"n_successful_requests\": 1, ...</td>\n",
       "      <td>{\"start_time\": \"2023-12-23T09:31:14.135003\", \"...</td>\n",
       "      <td>2023-12-23T09:31:30.246954</td>\n",
       "      <td>0.4</td>\n",
       "      <td>0.9</td>\n",
       "      <td>1.0</td>\n",
       "      <td>[{'args': {'question': 'Wann wird die bariatri...</td>\n",
       "      <td>[{'args': {'prompt': 'Wann wird die bariatrisc...</td>\n",
       "      <td>[{'args': {'source': 'In Kliniken mit mehr als...</td>\n",
       "      <td>16</td>\n",
       "      <td>1799</td>\n",
       "      <td>0.002800</td>\n",
       "    </tr>\n",
       "    <tr>\n",
       "      <th>1</th>\n",
       "      <td>App_1</td>\n",
       "      <td>{\"tru_class_info\": {\"name\": \"TruLlama\", \"modul...</td>\n",
       "      <td>RetrieverQueryEngine(llama_index.query_engine....</td>\n",
       "      <td>record_hash_3035fe347e98d82303cef6577365c319</td>\n",
       "      <td>\"Wann wird die bariatrische OP emopfohlen?\"</td>\n",
       "      <td>\"Die bariatrische Operation wird empfohlen, we...</td>\n",
       "      <td>-</td>\n",
       "      <td>{\"record_id\": \"record_hash_3035fe347e98d82303c...</td>\n",
       "      <td>{\"n_requests\": 1, \"n_successful_requests\": 1, ...</td>\n",
       "      <td>{\"start_time\": \"2023-12-23T09:31:14.135003\", \"...</td>\n",
       "      <td>2023-12-23T09:31:31.531660</td>\n",
       "      <td>0.4</td>\n",
       "      <td>0.9</td>\n",
       "      <td>1.0</td>\n",
       "      <td>[{'args': {'question': 'Wann wird die bariatri...</td>\n",
       "      <td>[{'args': {'prompt': 'Wann wird die bariatrisc...</td>\n",
       "      <td>[{'args': {'source': 'In Kliniken mit mehr als...</td>\n",
       "      <td>16</td>\n",
       "      <td>1799</td>\n",
       "      <td>0.002800</td>\n",
       "    </tr>\n",
       "    <tr>\n",
       "      <th>2</th>\n",
       "      <td>App_1</td>\n",
       "      <td>{\"tru_class_info\": {\"name\": \"TruLlama\", \"modul...</td>\n",
       "      <td>RetrieverQueryEngine(llama_index.query_engine....</td>\n",
       "      <td>record_hash_20cf2087031c692c15ded7c03391b498</td>\n",
       "      <td>\"Wie untersuche ich eine Wespenstichallergie?\"</td>\n",
       "      <td>\"Um eine Wespenstichallergie zu untersuchen, k...</td>\n",
       "      <td>-</td>\n",
       "      <td>{\"record_id\": \"record_hash_20cf2087031c692c15d...</td>\n",
       "      <td>{\"n_requests\": 1, \"n_successful_requests\": 1, ...</td>\n",
       "      <td>{\"start_time\": \"2023-12-23T09:31:32.639123\", \"...</td>\n",
       "      <td>2023-12-23T09:31:43.558161</td>\n",
       "      <td>0.0</td>\n",
       "      <td>1.0</td>\n",
       "      <td>0.0</td>\n",
       "      <td>[{'args': {'question': 'Wie untersuche ich ein...</td>\n",
       "      <td>[{'args': {'prompt': 'Wie untersuche ich eine ...</td>\n",
       "      <td>[{'args': {'source': 'Machen Sie bitte in folg...</td>\n",
       "      <td>10</td>\n",
       "      <td>1693</td>\n",
       "      <td>0.002640</td>\n",
       "    </tr>\n",
       "    <tr>\n",
       "      <th>3</th>\n",
       "      <td>App_1</td>\n",
       "      <td>{\"tru_class_info\": {\"name\": \"TruLlama\", \"modul...</td>\n",
       "      <td>RetrieverQueryEngine(llama_index.query_engine....</td>\n",
       "      <td>record_hash_300a99e429ae3dfe7c9f73f4540701da</td>\n",
       "      <td>\"Wie untersuche ich eine Wespenstichallergie?\"</td>\n",
       "      <td>\"Um eine Wespenstichallergie zu untersuchen, k...</td>\n",
       "      <td>-</td>\n",
       "      <td>{\"record_id\": \"record_hash_300a99e429ae3dfe7c9...</td>\n",
       "      <td>{\"n_requests\": 1, \"n_successful_requests\": 1, ...</td>\n",
       "      <td>{\"start_time\": \"2023-12-23T09:31:32.639123\", \"...</td>\n",
       "      <td>2023-12-23T09:31:44.279939</td>\n",
       "      <td>0.0</td>\n",
       "      <td>1.0</td>\n",
       "      <td>0.0</td>\n",
       "      <td>[{'args': {'question': 'Wie untersuche ich ein...</td>\n",
       "      <td>[{'args': {'prompt': 'Wie untersuche ich eine ...</td>\n",
       "      <td>[{'args': {'source': 'Machen Sie bitte in folg...</td>\n",
       "      <td>10</td>\n",
       "      <td>1693</td>\n",
       "      <td>0.002640</td>\n",
       "    </tr>\n",
       "    <tr>\n",
       "      <th>4</th>\n",
       "      <td>App_1</td>\n",
       "      <td>{\"tru_class_info\": {\"name\": \"TruLlama\", \"modul...</td>\n",
       "      <td>RetrieverQueryEngine(llama_index.query_engine....</td>\n",
       "      <td>record_hash_809f920b37bcbd70109c8e066a3102fb</td>\n",
       "      <td>\"Was sind die ersten Tests um AIDS zu diagnost...</td>\n",
       "      <td>\"Die ersten Tests zur Diagnose von AIDS sind d...</td>\n",
       "      <td>-</td>\n",
       "      <td>{\"record_id\": \"record_hash_809f920b37bcbd70109...</td>\n",
       "      <td>{\"n_requests\": 1, \"n_successful_requests\": 1, ...</td>\n",
       "      <td>{\"start_time\": \"2023-12-23T09:31:45.413347\", \"...</td>\n",
       "      <td>2023-12-23T09:31:55.661394</td>\n",
       "      <td>0.2</td>\n",
       "      <td>1.0</td>\n",
       "      <td>NaN</td>\n",
       "      <td>[{'args': {'question': 'Was sind die ersten Te...</td>\n",
       "      <td>[{'args': {'prompt': 'Was sind die ersten Test...</td>\n",
       "      <td>NaN</td>\n",
       "      <td>10</td>\n",
       "      <td>1727</td>\n",
       "      <td>0.002651</td>\n",
       "    </tr>\n",
       "  </tbody>\n",
       "</table>\n",
       "</div>"
      ],
      "text/plain": [
       "  app_id                                           app_json  \\\n",
       "0  App_1  {\"tru_class_info\": {\"name\": \"TruLlama\", \"modul...   \n",
       "1  App_1  {\"tru_class_info\": {\"name\": \"TruLlama\", \"modul...   \n",
       "2  App_1  {\"tru_class_info\": {\"name\": \"TruLlama\", \"modul...   \n",
       "3  App_1  {\"tru_class_info\": {\"name\": \"TruLlama\", \"modul...   \n",
       "4  App_1  {\"tru_class_info\": {\"name\": \"TruLlama\", \"modul...   \n",
       "\n",
       "                                                type  \\\n",
       "0  RetrieverQueryEngine(llama_index.query_engine....   \n",
       "1  RetrieverQueryEngine(llama_index.query_engine....   \n",
       "2  RetrieverQueryEngine(llama_index.query_engine....   \n",
       "3  RetrieverQueryEngine(llama_index.query_engine....   \n",
       "4  RetrieverQueryEngine(llama_index.query_engine....   \n",
       "\n",
       "                                      record_id  \\\n",
       "0  record_hash_2ed9c45be7f0652162fbc9e5e49428be   \n",
       "1  record_hash_3035fe347e98d82303cef6577365c319   \n",
       "2  record_hash_20cf2087031c692c15ded7c03391b498   \n",
       "3  record_hash_300a99e429ae3dfe7c9f73f4540701da   \n",
       "4  record_hash_809f920b37bcbd70109c8e066a3102fb   \n",
       "\n",
       "                                               input  \\\n",
       "0        \"Wann wird die bariatrische OP emopfohlen?\"   \n",
       "1        \"Wann wird die bariatrische OP emopfohlen?\"   \n",
       "2     \"Wie untersuche ich eine Wespenstichallergie?\"   \n",
       "3     \"Wie untersuche ich eine Wespenstichallergie?\"   \n",
       "4  \"Was sind die ersten Tests um AIDS zu diagnost...   \n",
       "\n",
       "                                              output tags  \\\n",
       "0  \"Die bariatrische Operation wird empfohlen, we...    -   \n",
       "1  \"Die bariatrische Operation wird empfohlen, we...    -   \n",
       "2  \"Um eine Wespenstichallergie zu untersuchen, k...    -   \n",
       "3  \"Um eine Wespenstichallergie zu untersuchen, k...    -   \n",
       "4  \"Die ersten Tests zur Diagnose von AIDS sind d...    -   \n",
       "\n",
       "                                         record_json  \\\n",
       "0  {\"record_id\": \"record_hash_2ed9c45be7f0652162f...   \n",
       "1  {\"record_id\": \"record_hash_3035fe347e98d82303c...   \n",
       "2  {\"record_id\": \"record_hash_20cf2087031c692c15d...   \n",
       "3  {\"record_id\": \"record_hash_300a99e429ae3dfe7c9...   \n",
       "4  {\"record_id\": \"record_hash_809f920b37bcbd70109...   \n",
       "\n",
       "                                           cost_json  \\\n",
       "0  {\"n_requests\": 1, \"n_successful_requests\": 1, ...   \n",
       "1  {\"n_requests\": 1, \"n_successful_requests\": 1, ...   \n",
       "2  {\"n_requests\": 1, \"n_successful_requests\": 1, ...   \n",
       "3  {\"n_requests\": 1, \"n_successful_requests\": 1, ...   \n",
       "4  {\"n_requests\": 1, \"n_successful_requests\": 1, ...   \n",
       "\n",
       "                                           perf_json  \\\n",
       "0  {\"start_time\": \"2023-12-23T09:31:14.135003\", \"...   \n",
       "1  {\"start_time\": \"2023-12-23T09:31:14.135003\", \"...   \n",
       "2  {\"start_time\": \"2023-12-23T09:31:32.639123\", \"...   \n",
       "3  {\"start_time\": \"2023-12-23T09:31:32.639123\", \"...   \n",
       "4  {\"start_time\": \"2023-12-23T09:31:45.413347\", \"...   \n",
       "\n",
       "                           ts  Context Relevance  Answer Relevance  \\\n",
       "0  2023-12-23T09:31:30.246954                0.4               0.9   \n",
       "1  2023-12-23T09:31:31.531660                0.4               0.9   \n",
       "2  2023-12-23T09:31:43.558161                0.0               1.0   \n",
       "3  2023-12-23T09:31:44.279939                0.0               1.0   \n",
       "4  2023-12-23T09:31:55.661394                0.2               1.0   \n",
       "\n",
       "   Groundedness                            Context Relevance_calls  \\\n",
       "0           1.0  [{'args': {'question': 'Wann wird die bariatri...   \n",
       "1           1.0  [{'args': {'question': 'Wann wird die bariatri...   \n",
       "2           0.0  [{'args': {'question': 'Wie untersuche ich ein...   \n",
       "3           0.0  [{'args': {'question': 'Wie untersuche ich ein...   \n",
       "4           NaN  [{'args': {'question': 'Was sind die ersten Te...   \n",
       "\n",
       "                              Answer Relevance_calls  \\\n",
       "0  [{'args': {'prompt': 'Wann wird die bariatrisc...   \n",
       "1  [{'args': {'prompt': 'Wann wird die bariatrisc...   \n",
       "2  [{'args': {'prompt': 'Wie untersuche ich eine ...   \n",
       "3  [{'args': {'prompt': 'Wie untersuche ich eine ...   \n",
       "4  [{'args': {'prompt': 'Was sind die ersten Test...   \n",
       "\n",
       "                                  Groundedness_calls  latency  total_tokens  \\\n",
       "0  [{'args': {'source': 'In Kliniken mit mehr als...       16          1799   \n",
       "1  [{'args': {'source': 'In Kliniken mit mehr als...       16          1799   \n",
       "2  [{'args': {'source': 'Machen Sie bitte in folg...       10          1693   \n",
       "3  [{'args': {'source': 'Machen Sie bitte in folg...       10          1693   \n",
       "4                                                NaN       10          1727   \n",
       "\n",
       "   total_cost  \n",
       "0    0.002800  \n",
       "1    0.002800  \n",
       "2    0.002640  \n",
       "3    0.002640  \n",
       "4    0.002651  "
      ]
     },
     "execution_count": 32,
     "metadata": {},
     "output_type": "execute_result"
    }
   ],
   "source": [
    "tru = Tru()\n",
    "\n",
    "records, feedback = tru.get_records_and_feedback(app_ids=[])\n",
    "records.head()"
   ]
  },
  {
   "cell_type": "code",
   "execution_count": 33,
   "metadata": {},
   "outputs": [
    {
     "data": {
      "text/html": [
       "<div>\n",
       "<style scoped>\n",
       "    .dataframe tbody tr th:only-of-type {\n",
       "        vertical-align: middle;\n",
       "    }\n",
       "\n",
       "    .dataframe tbody tr th {\n",
       "        vertical-align: top;\n",
       "    }\n",
       "\n",
       "    .dataframe thead th {\n",
       "        text-align: right;\n",
       "    }\n",
       "</style>\n",
       "<table border=\"1\" class=\"dataframe\">\n",
       "  <thead>\n",
       "    <tr style=\"text-align: right;\">\n",
       "      <th></th>\n",
       "      <th>input</th>\n",
       "      <th>output</th>\n",
       "      <th>Context Relevance</th>\n",
       "      <th>Answer Relevance</th>\n",
       "      <th>Groundedness</th>\n",
       "    </tr>\n",
       "  </thead>\n",
       "  <tbody>\n",
       "    <tr>\n",
       "      <th>0</th>\n",
       "      <td>\"Wann wird die bariatrische OP emopfohlen?\"</td>\n",
       "      <td>\"Die bariatrische Operation wird empfohlen, wenn bestimmte Kontraindikationen nicht bestehen, wie instabile psychopathologische Zust\\u00e4nde, konsumierende und neoplastische Erkrankungen, aktive Substanzabh\\u00e4ngigkeit, unbehandelte Bulimia nervosa, chronische Erkrankungen wie Leberzirrhose oder andere schwer gesundheitlich einschr\\u00e4nkende Erkrankungen, die sich durch den postoperativen katabolen Stoffwechsel verschlechtern k\\u00f6nnen. Es wird auch empfohlen, dass die Operation in Kliniken mit einer h\\u00f6heren Anzahl von bariatrischen Operationen durchgef\\u00fchrt wird, da dies mit einer geringeren postoperativen Mortalit\\u00e4t und Morbidit\\u00e4t sowie einem k\\u00fcrzeren station\\u00e4ren Aufenthalt verbunden ist. Eine lebenslange interdisziplin\\u00e4re Nachsorge wird ebenfalls empfohlen.\"</td>\n",
       "      <td>0.4</td>\n",
       "      <td>0.9</td>\n",
       "      <td>1.0</td>\n",
       "    </tr>\n",
       "    <tr>\n",
       "      <th>1</th>\n",
       "      <td>\"Wann wird die bariatrische OP emopfohlen?\"</td>\n",
       "      <td>\"Die bariatrische Operation wird empfohlen, wenn bestimmte Kontraindikationen nicht bestehen, wie instabile psychopathologische Zust\\u00e4nde, konsumierende und neoplastische Erkrankungen, aktive Substanzabh\\u00e4ngigkeit, unbehandelte Bulimia nervosa, chronische Erkrankungen wie Leberzirrhose oder andere schwer gesundheitlich einschr\\u00e4nkende Erkrankungen, die sich durch den postoperativen katabolen Stoffwechsel verschlechtern k\\u00f6nnen. Es wird auch empfohlen, dass die Operation in Kliniken mit einer h\\u00f6heren Anzahl von bariatrischen Operationen durchgef\\u00fchrt wird, da dies mit einer geringeren postoperativen Mortalit\\u00e4t und Morbidit\\u00e4t sowie einem k\\u00fcrzeren station\\u00e4ren Aufenthalt verbunden ist. Eine lebenslange interdisziplin\\u00e4re Nachsorge wird ebenfalls empfohlen.\"</td>\n",
       "      <td>0.4</td>\n",
       "      <td>0.9</td>\n",
       "      <td>1.0</td>\n",
       "    </tr>\n",
       "    <tr>\n",
       "      <th>2</th>\n",
       "      <td>\"Wie untersuche ich eine Wespenstichallergie?\"</td>\n",
       "      <td>\"Um eine Wespenstichallergie zu untersuchen, k\\u00f6nnen verschiedene diagnostische Verfahren eingesetzt werden. Eine M\\u00f6glichkeit ist der sogenannte Hauttest, bei dem eine kleine Menge des Allergens auf die Haut aufgetragen wird und anschlie\\u00dfend die Reaktion beobachtet wird. Eine andere Methode ist der Bluttest, bei dem das Blut auf spezifische Antik\\u00f6rper gegen das Wespenallergen untersucht wird. In einigen F\\u00e4llen kann auch ein Provokationstest durchgef\\u00fchrt werden, bei dem das Allergen kontrolliert in den K\\u00f6rper eingebracht wird, um eine allergische Reaktion auszul\\u00f6sen und zu beobachten. Es ist wichtig, dass diese Untersuchungen von einem Facharzt f\\u00fcr Allergologie durchgef\\u00fchrt werden, um eine genaue Diagnose zu stellen und eine geeignete Behandlung zu empfehlen.\"</td>\n",
       "      <td>0.0</td>\n",
       "      <td>1.0</td>\n",
       "      <td>0.0</td>\n",
       "    </tr>\n",
       "    <tr>\n",
       "      <th>3</th>\n",
       "      <td>\"Wie untersuche ich eine Wespenstichallergie?\"</td>\n",
       "      <td>\"Um eine Wespenstichallergie zu untersuchen, k\\u00f6nnen verschiedene diagnostische Verfahren eingesetzt werden. Eine M\\u00f6glichkeit ist der sogenannte Hauttest, bei dem eine kleine Menge des Allergens auf die Haut aufgetragen wird und anschlie\\u00dfend die Reaktion beobachtet wird. Eine andere Methode ist der Bluttest, bei dem das Blut auf spezifische Antik\\u00f6rper gegen das Wespenallergen untersucht wird. In einigen F\\u00e4llen kann auch ein Provokationstest durchgef\\u00fchrt werden, bei dem das Allergen kontrolliert in den K\\u00f6rper eingebracht wird, um eine allergische Reaktion auszul\\u00f6sen und zu beobachten. Es ist wichtig, dass diese Untersuchungen von einem Facharzt f\\u00fcr Allergologie durchgef\\u00fchrt werden, um eine genaue Diagnose zu stellen und eine geeignete Behandlung zu empfehlen.\"</td>\n",
       "      <td>0.0</td>\n",
       "      <td>1.0</td>\n",
       "      <td>0.0</td>\n",
       "    </tr>\n",
       "    <tr>\n",
       "      <th>4</th>\n",
       "      <td>\"Was sind die ersten Tests um AIDS zu diagnostizieren?\"</td>\n",
       "      <td>\"Die ersten Tests zur Diagnose von AIDS sind der kombinierte HIV-Antigen-Antik\\u00f6rpersuchtest (HIV-Screening-Test der 4. Generation), der HIV-spezifische Antik\\u00f6rper und das HIV-spezifische p24-Antigen nachweist. Bei Kindern \\u00fcber 24 Monaten ist dies die bevorzugte Methode. Bei akuter HIV-Infektion kann die Sensitivit\\u00e4t dieses Tests durch den zus\\u00e4tzlichen Nachweis von HIV-spezifischer RNA mittels PCR gesteigert werden.\"</td>\n",
       "      <td>0.2</td>\n",
       "      <td>1.0</td>\n",
       "      <td>NaN</td>\n",
       "    </tr>\n",
       "    <tr>\n",
       "      <th>5</th>\n",
       "      <td>\"Was sind die ersten Tests um AIDS zu diagnostizieren?\"</td>\n",
       "      <td>\"Die ersten Tests zur Diagnose von AIDS sind der kombinierte HIV-Antigen-Antik\\u00f6rpersuchtest (HIV-Screening-Test der 4. Generation), der HIV-spezifische Antik\\u00f6rper und das HIV-spezifische p24-Antigen nachweist. Bei Kindern \\u00fcber 24 Monaten ist dies die bevorzugte Methode. Bei akuter HIV-Infektion kann die Sensitivit\\u00e4t dieses Tests durch den zus\\u00e4tzlichen Nachweis von HIV-spezifischer RNA mittels PCR gesteigert werden.\"</td>\n",
       "      <td>0.2</td>\n",
       "      <td>1.0</td>\n",
       "      <td>NaN</td>\n",
       "    </tr>\n",
       "    <tr>\n",
       "      <th>6</th>\n",
       "      <td>\"Ist eine Anamnese auch genannt als Test in den Dokumenten?\"</td>\n",
       "      <td>\"Nein, eine Anamnese wird in den Dokumenten nicht als Test bezeichnet.\"</td>\n",
       "      <td>NaN</td>\n",
       "      <td>1.0</td>\n",
       "      <td>NaN</td>\n",
       "    </tr>\n",
       "    <tr>\n",
       "      <th>7</th>\n",
       "      <td>\"Ist eine Anamnese auch genannt als Test in den Dokumenten?\"</td>\n",
       "      <td>\"Nein, eine Anamnese wird in den Dokumenten nicht als Test bezeichnet.\"</td>\n",
       "      <td>NaN</td>\n",
       "      <td>NaN</td>\n",
       "      <td>NaN</td>\n",
       "    </tr>\n",
       "  </tbody>\n",
       "</table>\n",
       "</div>"
      ],
      "text/plain": [
       "                                                          input  \\\n",
       "0                   \"Wann wird die bariatrische OP emopfohlen?\"   \n",
       "1                   \"Wann wird die bariatrische OP emopfohlen?\"   \n",
       "2                \"Wie untersuche ich eine Wespenstichallergie?\"   \n",
       "3                \"Wie untersuche ich eine Wespenstichallergie?\"   \n",
       "4       \"Was sind die ersten Tests um AIDS zu diagnostizieren?\"   \n",
       "5       \"Was sind die ersten Tests um AIDS zu diagnostizieren?\"   \n",
       "6  \"Ist eine Anamnese auch genannt als Test in den Dokumenten?\"   \n",
       "7  \"Ist eine Anamnese auch genannt als Test in den Dokumenten?\"   \n",
       "\n",
       "                                                                                                                                                                                                                                                                                                                                                                                                                                                                                                                                                                                                                                                                                                                                                                                                                                               output  \\\n",
       "0        \"Die bariatrische Operation wird empfohlen, wenn bestimmte Kontraindikationen nicht bestehen, wie instabile psychopathologische Zust\\u00e4nde, konsumierende und neoplastische Erkrankungen, aktive Substanzabh\\u00e4ngigkeit, unbehandelte Bulimia nervosa, chronische Erkrankungen wie Leberzirrhose oder andere schwer gesundheitlich einschr\\u00e4nkende Erkrankungen, die sich durch den postoperativen katabolen Stoffwechsel verschlechtern k\\u00f6nnen. Es wird auch empfohlen, dass die Operation in Kliniken mit einer h\\u00f6heren Anzahl von bariatrischen Operationen durchgef\\u00fchrt wird, da dies mit einer geringeren postoperativen Mortalit\\u00e4t und Morbidit\\u00e4t sowie einem k\\u00fcrzeren station\\u00e4ren Aufenthalt verbunden ist. Eine lebenslange interdisziplin\\u00e4re Nachsorge wird ebenfalls empfohlen.\"   \n",
       "1        \"Die bariatrische Operation wird empfohlen, wenn bestimmte Kontraindikationen nicht bestehen, wie instabile psychopathologische Zust\\u00e4nde, konsumierende und neoplastische Erkrankungen, aktive Substanzabh\\u00e4ngigkeit, unbehandelte Bulimia nervosa, chronische Erkrankungen wie Leberzirrhose oder andere schwer gesundheitlich einschr\\u00e4nkende Erkrankungen, die sich durch den postoperativen katabolen Stoffwechsel verschlechtern k\\u00f6nnen. Es wird auch empfohlen, dass die Operation in Kliniken mit einer h\\u00f6heren Anzahl von bariatrischen Operationen durchgef\\u00fchrt wird, da dies mit einer geringeren postoperativen Mortalit\\u00e4t und Morbidit\\u00e4t sowie einem k\\u00fcrzeren station\\u00e4ren Aufenthalt verbunden ist. Eine lebenslange interdisziplin\\u00e4re Nachsorge wird ebenfalls empfohlen.\"   \n",
       "2  \"Um eine Wespenstichallergie zu untersuchen, k\\u00f6nnen verschiedene diagnostische Verfahren eingesetzt werden. Eine M\\u00f6glichkeit ist der sogenannte Hauttest, bei dem eine kleine Menge des Allergens auf die Haut aufgetragen wird und anschlie\\u00dfend die Reaktion beobachtet wird. Eine andere Methode ist der Bluttest, bei dem das Blut auf spezifische Antik\\u00f6rper gegen das Wespenallergen untersucht wird. In einigen F\\u00e4llen kann auch ein Provokationstest durchgef\\u00fchrt werden, bei dem das Allergen kontrolliert in den K\\u00f6rper eingebracht wird, um eine allergische Reaktion auszul\\u00f6sen und zu beobachten. Es ist wichtig, dass diese Untersuchungen von einem Facharzt f\\u00fcr Allergologie durchgef\\u00fchrt werden, um eine genaue Diagnose zu stellen und eine geeignete Behandlung zu empfehlen.\"   \n",
       "3  \"Um eine Wespenstichallergie zu untersuchen, k\\u00f6nnen verschiedene diagnostische Verfahren eingesetzt werden. Eine M\\u00f6glichkeit ist der sogenannte Hauttest, bei dem eine kleine Menge des Allergens auf die Haut aufgetragen wird und anschlie\\u00dfend die Reaktion beobachtet wird. Eine andere Methode ist der Bluttest, bei dem das Blut auf spezifische Antik\\u00f6rper gegen das Wespenallergen untersucht wird. In einigen F\\u00e4llen kann auch ein Provokationstest durchgef\\u00fchrt werden, bei dem das Allergen kontrolliert in den K\\u00f6rper eingebracht wird, um eine allergische Reaktion auszul\\u00f6sen und zu beobachten. Es ist wichtig, dass diese Untersuchungen von einem Facharzt f\\u00fcr Allergologie durchgef\\u00fchrt werden, um eine genaue Diagnose zu stellen und eine geeignete Behandlung zu empfehlen.\"   \n",
       "4                                                                                                                                                                                                                                                                                                                                                                                        \"Die ersten Tests zur Diagnose von AIDS sind der kombinierte HIV-Antigen-Antik\\u00f6rpersuchtest (HIV-Screening-Test der 4. Generation), der HIV-spezifische Antik\\u00f6rper und das HIV-spezifische p24-Antigen nachweist. Bei Kindern \\u00fcber 24 Monaten ist dies die bevorzugte Methode. Bei akuter HIV-Infektion kann die Sensitivit\\u00e4t dieses Tests durch den zus\\u00e4tzlichen Nachweis von HIV-spezifischer RNA mittels PCR gesteigert werden.\"   \n",
       "5                                                                                                                                                                                                                                                                                                                                                                                        \"Die ersten Tests zur Diagnose von AIDS sind der kombinierte HIV-Antigen-Antik\\u00f6rpersuchtest (HIV-Screening-Test der 4. Generation), der HIV-spezifische Antik\\u00f6rper und das HIV-spezifische p24-Antigen nachweist. Bei Kindern \\u00fcber 24 Monaten ist dies die bevorzugte Methode. Bei akuter HIV-Infektion kann die Sensitivit\\u00e4t dieses Tests durch den zus\\u00e4tzlichen Nachweis von HIV-spezifischer RNA mittels PCR gesteigert werden.\"   \n",
       "6                                                                                                                                                                                                                                                                                                                                                                                                                                                                                                                                                                                                                                                                                                                                                                             \"Nein, eine Anamnese wird in den Dokumenten nicht als Test bezeichnet.\"   \n",
       "7                                                                                                                                                                                                                                                                                                                                                                                                                                                                                                                                                                                                                                                                                                                                                                             \"Nein, eine Anamnese wird in den Dokumenten nicht als Test bezeichnet.\"   \n",
       "\n",
       "   Context Relevance  Answer Relevance  Groundedness  \n",
       "0                0.4               0.9           1.0  \n",
       "1                0.4               0.9           1.0  \n",
       "2                0.0               1.0           0.0  \n",
       "3                0.0               1.0           0.0  \n",
       "4                0.2               1.0           NaN  \n",
       "5                0.2               1.0           NaN  \n",
       "6                NaN               1.0           NaN  \n",
       "7                NaN               NaN           NaN  "
      ]
     },
     "execution_count": 33,
     "metadata": {},
     "output_type": "execute_result"
    }
   ],
   "source": [
    "pd.set_option(\"display.max_colwidth\", None)\n",
    "records[[\"input\", \"output\"] + feedback]"
   ]
  },
  {
   "cell_type": "code",
   "execution_count": 34,
   "metadata": {},
   "outputs": [
    {
     "name": "stdout",
     "output_type": "stream",
     "text": [
      "Starting dashboard ...\n"
     ]
    },
    {
     "data": {
      "application/vnd.jupyter.widget-view+json": {
       "model_id": "2f1db502441c4c4486e0a87d5c34e820",
       "version_major": 2,
       "version_minor": 0
      },
      "text/plain": [
       "Accordion(children=(VBox(children=(VBox(children=(Label(value='STDOUT'), Output())), VBox(children=(Label(valu…"
      ]
     },
     "metadata": {},
     "output_type": "display_data"
    },
    {
     "name": "stdout",
     "output_type": "stream",
     "text": [
      "Dashboard started at http://localhost:8501 .\n"
     ]
    },
    {
     "data": {
      "text/plain": [
       "<Popen: returncode: None args: ['streamlit', 'run', '--server.headless=True'...>"
      ]
     },
     "execution_count": 34,
     "metadata": {},
     "output_type": "execute_result"
    }
   ],
   "source": [
    "tru.get_leaderboard(app_ids=[])\n",
    "tru.run_dashboard()"
   ]
  }
 ],
 "metadata": {
  "kernelspec": {
   "display_name": "Semantic_Env",
   "language": "python",
   "name": "python3"
  },
  "language_info": {
   "codemirror_mode": {
    "name": "ipython",
    "version": 3
   },
   "file_extension": ".py",
   "mimetype": "text/x-python",
   "name": "python",
   "nbconvert_exporter": "python",
   "pygments_lexer": "ipython3",
   "version": "3.10.11"
  }
 },
 "nbformat": 4,
 "nbformat_minor": 2
}
